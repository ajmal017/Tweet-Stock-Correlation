{
 "cells": [
  {
   "cell_type": "code",
   "execution_count": 102,
   "metadata": {},
   "outputs": [],
   "source": [
    "#Import relevant APIs\r\n",
    "import numpy as np\r\n",
    "import pandas as pd\r\n",
    "import tweepy as tw\r\n",
    "import yfinance as yf\r\n",
    "import matplotlib.pyplot as plt\r\n",
    "from datetime import date"
   ]
  },
  {
   "cell_type": "markdown",
   "metadata": {},
   "source": [
    "Setting up Twitter Authentication:"
   ]
  },
  {
   "cell_type": "code",
   "execution_count": null,
   "metadata": {},
   "outputs": [],
   "source": [
    "from tweepy import OAuthHandler\r\n",
    "from tweepy import API\r\n",
    "\r\n",
    "apiKey = 'sUY1UAhfmauoDAqodxPJCmE1d'\r\n",
    "apiSecret = 'nRrYuBn8X1MauIFfyznAXdwdLsTcVReytlIUpsfjiI2GncodX0'\r\n",
    "accessToken = '3295318197-LMzVBdXwZPbIgJU8Fd0ksjT8mEOES2HRYC2J2ha'\r\n",
    "accessSecret = 'RgqkfaXowXGk1JaKs0jTOIvGVjZbGnL32bsPk4DuzohBf'\r\n",
    "\r\n",
    "auth = OAuthHandler(apiKey, apiSecret)\r\n",
    "auth.set_access_token(accessToken, accessSecret)\r\n",
    "api = API(auth)"
   ]
  },
  {
   "cell_type": "markdown",
   "metadata": {},
   "source": [
    "\r\n",
    "Getting Ticker data and storing in Pandas DataFrame:"
   ]
  },
  {
   "cell_type": "code",
   "execution_count": 118,
   "metadata": {},
   "outputs": [
    {
     "name": "stdout",
     "output_type": "stream",
     "text": [
      "{'TSLA': 14.97, 'AAPL': -2.2, 'FB': 0.97}\n"
     ]
    }
   ],
   "source": [
    "end_date = str(date.today())\r\n",
    "start_date = input(\"Input start date in YYYY-MM-DD format (within 5 days of current date):  \")\r\n",
    "tickers = ['TSLA','AAPL', 'FB']\r\n",
    "stock_data = yf.download(tickers, start=start_date, end=end_date, progress=False, group_by='ticker')\r\n",
    "correlation = {}\r\n",
    "for tick in tickers:\r\n",
    "    percent_change = (((stock_data[tick]['Close'])[-1] - (stock_data[tick]['Close'])[start_date])/(stock_data[tick]['Close'])[start_date])*100\r\n",
    "    correlation[tick] = round(percent_change, 2)\r\n",
    "print(correlation)\r\n"
   ]
  }
 ],
 "metadata": {
  "kernelspec": {
   "display_name": "Python 3",
   "name": "python3"
  },
  "language_info": {
   "codemirror_mode": {
    "name": "ipython",
    "version": 3
   },
   "file_extension": ".py",
   "mimetype": "text/x-python",
   "name": "python",
   "nbconvert_exporter": "python",
   "pygments_lexer": "ipython3",
   "version": "3.8.5"
  },
  "orig_nbformat": 2
 },
 "nbformat": 4,
 "nbformat_minor": 2
}