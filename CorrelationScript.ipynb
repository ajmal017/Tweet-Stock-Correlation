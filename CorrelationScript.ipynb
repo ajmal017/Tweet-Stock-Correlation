{
 "cells": [
  {
   "cell_type": "code",
   "execution_count": 3,
   "metadata": {},
   "outputs": [],
   "source": [
    "#Import relevant APIs\r\n",
    "import numpy as np\r\n",
    "import pandas as pd\r\n",
    "import tweepy as tw\r\n",
    "import yfinance as yf\r\n",
    "import sys\r\n",
    "import matplotlib.pyplot as plt\r\n",
    "from datetime import date\r\n",
    "from datetime import timedelta"
   ]
  },
  {
   "cell_type": "markdown",
   "metadata": {},
   "source": [
    "Setting up Twitter Authentication:"
   ]
  },
  {
   "cell_type": "code",
   "execution_count": 4,
   "metadata": {},
   "outputs": [],
   "source": [
    "from tweepy import OAuthHandler\r\n",
    "from tweepy import API\r\n",
    "\r\n",
    "apiKey = 'sUY1UAhfmauoDAqodxPJCmE1d'\r\n",
    "apiSecret = 'nRrYuBn8X1MauIFfyznAXdwdLsTcVReytlIUpsfjiI2GncodX0'\r\n",
    "accessToken = '3295318197-LMzVBdXwZPbIgJU8Fd0ksjT8mEOES2HRYC2J2ha'\r\n",
    "accessSecret = 'RgqkfaXowXGk1JaKs0jTOIvGVjZbGnL32bsPk4DuzohBf'\r\n",
    "\r\n",
    "auth = OAuthHandler(apiKey, apiSecret)\r\n",
    "auth.set_access_token(accessToken, accessSecret)\r\n",
    "api = API(auth, wait_on_rate_limit = True)"
   ]
  },
  {
   "cell_type": "markdown",
   "metadata": {},
   "source": [
    "\r\n",
    "Getting Ticker data and storing in Pandas DataFrame:"
   ]
  },
  {
   "cell_type": "code",
   "execution_count": 5,
   "metadata": {},
   "outputs": [],
   "source": [
    "end_date = date.today()\r\n",
    "days_prior = input(\"Enter the number of days to retrieve market data (max 7 days, min 2 days):  \")\r\n",
    "start_date = end_date - timedelta(days=int(days_prior))\r\n",
    "weekno = start_date.weekday()\r\n",
    "tickers = ['TSLA','AAPL', 'FB']\r\n",
    "correlation = {}\r\n",
    "\r\n",
    "if weekno < 5 and int(days_prior) <= 7 and int(days_prior) >= 2:\r\n",
    "    stock_data = yf.download(tickers, start=start_date, end=end_date, progress=False, group_by='ticker')\r\n",
    "    for tick in tickers:\r\n",
    "        percent_change = (((stock_data[tick]['Close'])[-1] - (stock_data[tick]['Close'])[str(start_date)])/\r\n",
    "            (stock_data[tick]['Close'])[str(start_date)])*100\r\n",
    "        correlation[tick] = round(abs(percent_change), 2)\r\n",
    "elif weekno >=5:\r\n",
    "    sys.exit(\"Input leads to a date on the weekend. Exiting...\")\r\n",
    "elif int(days_prior) > 7 or int(days_prior) < 2:\r\n",
    "    sys.exit(\"Input does not match constraints. Exiting...\")"
   ]
  },
  {
   "cell_type": "markdown",
   "metadata": {},
   "source": [
    "Searching Twitter using Tweepy:"
   ]
  },
  {
   "cell_type": "code",
   "execution_count": 7,
   "metadata": {},
   "outputs": [
    {
     "name": "stdout",
     "output_type": "stream",
     "text": [
      "RT @SawyerMerritt: $TSLA stock is going to MARS! 📈🔥🚀🤑\n",
      "\n",
      "That is all 🤣\n",
      "\n",
      "Have a great night everybody! Goodnight 😴💤🌙\n",
      "RT @SawyerMerritt: $TSLA stock is going to MARS! 📈🔥🚀🤑\n",
      "\n",
      "That is all 🤣\n",
      "\n",
      "Have a great night everybody! Goodnight 😴💤🌙\n",
      "RT @DeItaone: Foxconn is moving some iPad and MacBook assembly to Vietnam from China at the request of Apple Inc, said a person with knowle…\n",
      "RT @DeItaone: Foxconn is moving some iPad and MacBook assembly to Vietnam from China at the request of Apple Inc, said a person with knowle…\n",
      "RT @cutiiebun: hii i'm newbie \n",
      "let's be friend and more interact \n",
      "\n",
      "Fb? rt/like\n",
      "fmbst? DM \n",
      "#roleplayerindonesia #rpworld #Mutualankuy #rolep…\n",
      "RT @cutiiebun: hii i'm newbie \n",
      "let's be friend and more interact \n",
      "\n",
      "Fb? rt/like\n",
      "fmbst? DM \n",
      "#roleplayerindonesia #rpworld #Mutualankuy #rolep…\n"
     ]
    }
   ],
   "source": [
    "tweetsDict = {}\r\n",
    "count = 0\r\n",
    "public_tweets = []\r\n",
    "\r\n",
    "for tick in tickers:\r\n",
    "    while count < 2: #Change condition to see if we have reached the tweet pull limit\r\n",
    "        public_tweets += tw.Cursor(api.search, q = tick+'- filter:retweets', lang='en', since = '2020-11-25').items(1)\r\n",
    "        count += 1\r\n",
    "    tweetsDict[tick] = count\r\n",
    "    count = 0\r\n",
    "for tweet in public_tweets:\r\n",
    "    print(tweet.text)"
   ]
  }
 ],
 "metadata": {
  "kernelspec": {
   "display_name": "Python 3",
   "name": "python3"
  },
  "language_info": {
   "codemirror_mode": {
    "name": "ipython",
    "version": 3
   },
   "file_extension": ".py",
   "mimetype": "text/x-python",
   "name": "python",
   "nbconvert_exporter": "python",
   "pygments_lexer": "ipython3",
   "version": "3.8.5"
  },
  "orig_nbformat": 2
 },
 "nbformat": 4,
 "nbformat_minor": 2
}